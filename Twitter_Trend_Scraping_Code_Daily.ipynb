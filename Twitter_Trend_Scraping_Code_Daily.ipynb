{
 "cells": [
  {
   "cell_type": "code",
   "execution_count": 3,
   "id": "f124e45a",
   "metadata": {},
   "outputs": [],
   "source": [
    "import numpy as np\n",
    "import pandas as pd"
   ]
  },
  {
   "cell_type": "code",
   "execution_count": 4,
   "id": "1b3a1d3e",
   "metadata": {},
   "outputs": [],
   "source": [
    "from selenium import webdriver\n",
    "from selenium.webdriver.common.by import By\n"
   ]
  },
  {
   "cell_type": "code",
   "execution_count": 22,
   "id": "9dff045a",
   "metadata": {},
   "outputs": [
    {
     "name": "stdout",
     "output_type": "stream",
     "text": [
      "         Date Volume           Word-Hashtag\n",
      "0  23/10/2023   362k               #INDvsNZ\n",
      "1  23/10/2023   115k          #GunturKaaram\n",
      "2  23/10/2023   107k   #HappyBirthdaySalaar\n",
      "3  23/10/2023    74k   #HBDRebelstarPrabhas\n",
      "4  23/10/2023    66k      #LekePrabhuKaNaam\n",
      "5  23/10/2023    58k           #GameChanger\n",
      "6  23/10/2023    52k         #HBDayAmitShah\n",
      "7  23/10/2023    52k             #TeamIndia\n",
      "8  23/10/2023    45k  #HappyBirthdayPrabhas\n",
      "9  23/10/2023    44k           #ViratKohli𓃵\n"
     ]
    }
   ],
   "source": [
    "from selenium import webdriver\n",
    "import os\n",
    "from selenium.webdriver.common.by import By\n",
    "import pandas as pd\n",
    "import datetime\n",
    "import re\n",
    "\n",
    "def scrape_twitter_trending_data():\n",
    "    \n",
    "    #get current_date\n",
    "    current_date = datetime.datetime.now().strftime('%d/%m/%Y')\n",
    "    # Initialize the WebDriver\n",
    "    browser = webdriver.Chrome()\n",
    "    \n",
    "    try:\n",
    "        # Open the URL\n",
    "        browser.get('https://www.twitter-trending.com/india/statistics')\n",
    "        time.sleep(20) \n",
    "        # Extract data from the last 24 hours\n",
    "        last_24_hours = browser.find_element(By.XPATH, '//*[@id=\"hepsitablo\"]/div[4]/div').text\n",
    "        \n",
    "        # Split the input text into lines\n",
    "        lines = last_24_hours.split('\\n')\n",
    "        \n",
    "        # Extract volume and hashtag using regular expressions\n",
    "        data = []\n",
    "        for line in lines[2:]:  # Start from index 3 to skip the first 3 lines of the input text\n",
    "            match = re.match(r'\\d+\\s+(\\d+k)\\s+(.+)', line)\n",
    "            if match:\n",
    "                volume, hashtag = match.groups()\n",
    "                data.append((current_date, volume, hashtag))\n",
    "        \n",
    "        # Create a DataFrame\n",
    "        df = pd.DataFrame(data, columns=[\"Date\",\"Volume\", \"Word-Hashtag\"])\n",
    "        # Save the DataFrame to a CSV file\n",
    "        df.to_csv('twitter_trending_data.csv', mode='a', index=False, header=not os.path.exists('C:/Users/rudsen/OneDrive - Publicis Groupe/Project/Culture Report/twitter_trending_data.csv'))\n",
    "        return df\n",
    "    \n",
    "    finally:\n",
    "        # Close the WebDriver\n",
    "        browser.quit()\n",
    "\n",
    "# Call the function to scrape data and create the DataFrame\n",
    "df = scrape_twitter_trending_data()\n",
    "\n",
    "# Print the DataFrame\n",
    "print(df)\n"
   ]
  },
  {
   "cell_type": "code",
   "execution_count": null,
   "id": "2386b57b",
   "metadata": {},
   "outputs": [],
   "source": []
  }
 ],
 "metadata": {
  "kernelspec": {
   "display_name": "Python 3 (ipykernel)",
   "language": "python",
   "name": "python3"
  },
  "language_info": {
   "codemirror_mode": {
    "name": "ipython",
    "version": 3
   },
   "file_extension": ".py",
   "mimetype": "text/x-python",
   "name": "python",
   "nbconvert_exporter": "python",
   "pygments_lexer": "ipython3",
   "version": "3.11.5"
  }
 },
 "nbformat": 4,
 "nbformat_minor": 5
}
